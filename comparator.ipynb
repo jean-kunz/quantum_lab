{
 "cells": [
  {
   "cell_type": "code",
   "execution_count": null,
   "metadata": {},
   "outputs": [],
   "source": [
    "import qiskit.tools.jupyter\n",
    "from qiskit import QuantumCircuit, QuantumRegister, execute, Aer, ClassicalRegister\n",
    "from qiskit.visualization import plot_histogram\n",
    "from qiskit.providers.aer import AerSimulator\n",
    "\n",
    "%qiskit_version_table\n",
    "\n"
   ]
  },
  {
   "cell_type": "code",
   "execution_count": null,
   "metadata": {},
   "outputs": [],
   "source": [
    "qr = QuantumRegister(2, \"bits\")\n",
    "aux = QuantumRegister(2, \"aux\")\n",
    "cr = ClassicalRegister(4, \"cbit\")\n",
    "simulator = AerSimulator()\n"
   ]
  },
  {
   "cell_type": "code",
   "execution_count": null,
   "metadata": {},
   "outputs": [],
   "source": [
    "qc = QuantumCircuit(qr,aux, cr)\n",
    "qc.x(qr[1])\n",
    "# measure on classical register , if true, will add classical register automatically\n",
    "#qc.measure_all(add_bits=False)\n",
    "# measure qubit of a registre to a cbit in circruit\n",
    "qc.measure(qr[0], cr[0])\n",
    "\n",
    "qc.draw()"
   ]
  },
  {
   "cell_type": "code",
   "execution_count": null,
   "metadata": {},
   "outputs": [],
   "source": [
    "#qc_bc.measure(qr[[0]], cr[0])\n",
    "#qc_bc.qubits"
   ]
  },
  {
   "cell_type": "code",
   "execution_count": null,
   "metadata": {},
   "outputs": [],
   "source": [
    "#qc.measure(qc._qubits[o],0)\n",
    "qc._qubits"
   ]
  },
  {
   "cell_type": "code",
   "execution_count": null,
   "metadata": {},
   "outputs": [],
   "source": [
    "def bit_compare():\n",
    "    qr = QuantumRegister(2, \"bits\")\n",
    "    aux = QuantumRegister(2, \"aux\")\n",
    "    \n",
    "    qc = QuantumCircuit(qr, aux)\n",
    "    qc.x(qr[1])\n",
    "    qc.mcx(qr, aux[0])\n",
    "    qc.x(qr[0])\n",
    "    qc.x(qr[1])\n",
    "    qc.mcx(qr, aux[1])\n",
    "    qc.x(qr[0])\n",
    "    \n",
    "    return qc\n",
    "\n",
    "qc_bc = bit_compare()"
   ]
  },
  {
   "cell_type": "code",
   "execution_count": null,
   "metadata": {},
   "outputs": [],
   "source": [
    "qc = QuantumCircuit(3, 3)\n",
    "# measure qubits 0, 1 & 2 to classical bits 0, 1 & 2 respectively\n",
    "qc.measure([0,1], [0,1])\n",
    "qc.draw()"
   ]
  },
  {
   "cell_type": "code",
   "execution_count": null,
   "metadata": {},
   "outputs": [],
   "source": [
    "qc._qubits"
   ]
  },
  {
   "cell_type": "code",
   "execution_count": null,
   "metadata": {},
   "outputs": [],
   "source": [
    "register = 1\n",
    "q = QuantumRegister(5, name=\"q\")\n",
    "q2 = QuantumRegister(4, name='q2')\n",
    "c = ClassicalRegister(9) # Changed from 9 to 1\n",
    "\n",
    "\n",
    "qc = QuantumCircuit(q,q2, c)\n",
    "qc.x(q[1])\n",
    "qc.measure(q[2],c[4])\n",
    "qc.measure(q2[0], c[0])\n",
    "job = execute(qc,simulator,shots = 1000)\n",
    "result = job.result()\n",
    "counts = result.get_counts(qc)\n",
    "print(\"\\nTotal count for 0 and 1 are:\",counts)"
   ]
  },
  {
   "cell_type": "code",
   "execution_count": null,
   "metadata": {},
   "outputs": [],
   "source": [
    "qc.draw()"
   ]
  },
  {
   "cell_type": "code",
   "execution_count": null,
   "metadata": {},
   "outputs": [],
   "source": []
  },
  {
   "cell_type": "code",
   "execution_count": null,
   "metadata": {},
   "outputs": [],
   "source": []
  }
 ],
 "metadata": {
  "kernelspec": {
   "display_name": "quantum",
   "language": "python",
   "name": "python3"
  },
  "language_info": {
   "codemirror_mode": {
    "name": "ipython",
    "version": 3
   },
   "file_extension": ".py",
   "mimetype": "text/x-python",
   "name": "python",
   "nbconvert_exporter": "python",
   "pygments_lexer": "ipython3",
   "version": "3.10.9"
  },
  "orig_nbformat": 4
 },
 "nbformat": 4,
 "nbformat_minor": 2
}
